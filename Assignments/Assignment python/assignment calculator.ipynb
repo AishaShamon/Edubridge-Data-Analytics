{
 "cells": [
  {
   "cell_type": "code",
   "execution_count": 4,
   "id": "dabb6ac4",
   "metadata": {},
   "outputs": [],
   "source": []
  },
  {
   "cell_type": "code",
   "execution_count": 9,
   "id": "0ec06e7c",
   "metadata": {},
   "outputs": [],
   "source": []
  },
  {
   "cell_type": "code",
   "execution_count": null,
   "id": "ed69d873",
   "metadata": {},
   "outputs": [],
   "source": []
  },
  {
   "cell_type": "code",
   "execution_count": null,
   "id": "d7412287",
   "metadata": {},
   "outputs": [],
   "source": [
    "from tkinter import *\n",
    "window=Tk()\n",
    "window.title('Calculator')\n",
    "l=Label(window,text='CALCULATOR',fg='black',bg='white',font=('Arial',25),width=80)\n",
    "t=Entry(window,width=100).place(x=30,y=50)\n",
    "c=Button(window,text='c',fg='red',bg='white',font=('Arial',15)).place(x=30,y=80)\n",
    "diivion=Button(window,text='/',fg='red',bg='white',font=('Arial',15)).place(x=120,y=80)\n",
    "seven=Button(window,text='7',fg='red',bg='white',font=('Arial',15)).place(x=30,y=120)\n",
    "eight=Button(window,text='8',fg='red',bg='white',font=('Arial',15)).place(x=60,y=120)\n",
    "nine=Button(window,text='9',fg='red',bg='white',font=('Arial',15)).place(x=90,y=120)\n",
    "x=Button(window,text='x',fg='red',bg='white',font=('Arial',15)).place(x=120,y=120)\n",
    "four=Button(window,text='4',fg='red',bg='white',font=('Arial',15)).place(x=30,y=160)\n",
    "five=Button(window,text='5',fg='red',bg='white',font=('Arial',15)).place(x=60,y=160)\n",
    "six=Button(window,text='6',fg='red',bg='white',font=('Arial',15)).place(x=90,y=160)\n",
    "difference=Button(window,text='-',fg='red',bg='white',font=('Arial',15)).place(x=120,y=160)\n",
    "one=Button(window,text='1',fg='red',bg='white',font=('Arial',15)).place(x=30,y=200)\n",
    "two=Button(window,text='2',fg='red',bg='white',font=('Arial',15)).place(x=60,y=200)\n",
    "three=Button(window,text='3',fg='red',bg='white',font=('Arial',15)).place(x=90,y=200)\n",
    "add=Button(window,text='+',fg='red',bg='white',font=('Arial',15)).place(x=120,y=200)\n",
    "ac=Button(window,text='AC',fg='red',bg='white',font=('Arial',14)).place(x=30,y=240)\n",
    "zero=Button(window,text='0',fg='red',bg='white',font=('Arial',15)).place(x=65,y=240)\n",
    "dot=Button(window,text='.',fg='red',bg='white',font=('Arial',15)).place(x=90,y=240)\n",
    "equals=Button(window,text='=',fg='red',bg='green',font=('Arial',15)).place(x=120,y=240)\n",
    "window.geometry('50x10')\n",
    "window.configure(bg='black')\n",
    "l.pack()\n",
    "window.mainloop()"
   ]
  },
  {
   "cell_type": "code",
   "execution_count": null,
   "id": "89a13b67",
   "metadata": {},
   "outputs": [],
   "source": []
  },
  {
   "cell_type": "code",
   "execution_count": null,
   "id": "a42d33be",
   "metadata": {},
   "outputs": [],
   "source": []
  },
  {
   "cell_type": "code",
   "execution_count": null,
   "id": "773a4667",
   "metadata": {},
   "outputs": [],
   "source": []
  }
 ],
 "metadata": {
  "kernelspec": {
   "display_name": "Python 3 (ipykernel)",
   "language": "python",
   "name": "python3"
  },
  "language_info": {
   "codemirror_mode": {
    "name": "ipython",
    "version": 3
   },
   "file_extension": ".py",
   "mimetype": "text/x-python",
   "name": "python",
   "nbconvert_exporter": "python",
   "pygments_lexer": "ipython3",
   "version": "3.9.7"
  }
 },
 "nbformat": 4,
 "nbformat_minor": 5
}
