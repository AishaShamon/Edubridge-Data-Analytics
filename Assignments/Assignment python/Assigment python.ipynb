{
 "cells": [
  {
   "cell_type": "code",
   "execution_count": 8,
   "id": "914dc4cb",
   "metadata": {},
   "outputs": [
    {
     "name": "stdout",
     "output_type": "stream",
     "text": [
      "enter the first number3\n",
      "enter the second number4\n",
      "7\n"
     ]
    }
   ],
   "source": [
    "#ADDITION\n",
    "\n",
    "a=int(input(\"enter the first number\"))\n",
    "b=int(input(\"enter the second number\"))\n",
    "print(a+b)"
   ]
  },
  {
   "cell_type": "code",
   "execution_count": null,
   "id": "a880ec0a",
   "metadata": {},
   "outputs": [],
   "source": [
    "#substraction\n",
    "\n",
    "print(a-b)"
   ]
  },
  {
   "cell_type": "code",
   "execution_count": 10,
   "id": "c202bcb5",
   "metadata": {},
   "outputs": [
    {
     "name": "stdout",
     "output_type": "stream",
     "text": [
      "12\n"
     ]
    }
   ],
   "source": [
    "#multiplication\n",
    "print(a*b)\n"
   ]
  },
  {
   "cell_type": "code",
   "execution_count": 11,
   "id": "7581c799",
   "metadata": {},
   "outputs": [
    {
     "name": "stdout",
     "output_type": "stream",
     "text": [
      "0.75\n"
     ]
    }
   ],
   "source": [
    "#DIVISION\n",
    "print(a/b)"
   ]
  },
  {
   "cell_type": "code",
   "execution_count": 15,
   "id": "6c83d185",
   "metadata": {},
   "outputs": [
    {
     "name": "stdout",
     "output_type": "stream",
     "text": [
      "3\n"
     ]
    }
   ],
   "source": [
    "#MODULUS\n",
    "print(a%b)"
   ]
  },
  {
   "cell_type": "code",
   "execution_count": 34,
   "id": "8e70d875",
   "metadata": {},
   "outputs": [
    {
     "name": "stdout",
     "output_type": "stream",
     "text": [
      "enter the  a value15\n",
      "enter the  b value10\n",
      "after swapping\n",
      "value of a: 10\n",
      "value of b: 15\n"
     ]
    }
   ],
   "source": [
    "#swap two variable using third variable\n",
    "a=int(input(\"enter the  a value\"))\n",
    "b=int(input(\"enter the  b value\"))\n",
    "temp= a\n",
    "a=b\n",
    "b=temp\n",
    "print(\"after swapping\")\n",
    "print(\"value of a:\", a)\n",
    "print(\"value of b:\", b)\n",
    "\n",
    "#swap two numbers without using third variable\n",
    "a=int(input(\"enter the  a value\"))\n",
    "b=int(input(\"enter the  b value\"))\n",
    "a=a+b\n",
    "b=a-b\n",
    "a=a-b\n",
    "print(\"after swapping\")\n",
    "print(\"value of a:\", a)\n",
    "print(\"value of b:\", b)\n"
   ]
  },
  {
   "cell_type": "code",
   "execution_count": null,
   "id": "6df3f8bb",
   "metadata": {},
   "outputs": [],
   "source": []
  },
  {
   "cell_type": "code",
   "execution_count": null,
   "id": "d27ff4ff",
   "metadata": {},
   "outputs": [],
   "source": [
    "\n"
   ]
  },
  {
   "cell_type": "code",
   "execution_count": 37,
   "id": "547a04fa",
   "metadata": {},
   "outputs": [
    {
     "name": "stdout",
     "output_type": "stream",
     "text": [
      "enter the principle value20000\n",
      "enter the rate10\n",
      "time35\n",
      "70000.0\n"
     ]
    }
   ],
   "source": [
    "#Simple interest\n",
    "p=int(input(\"enter the principle value\"))\n",
    "r=float(input(\"enter the rate\"))\n",
    "t=int(input(\"time\"))\n",
    "SI=(p*r*t)/100\n",
    "print(SI)\n"
   ]
  },
  {
   "cell_type": "code",
   "execution_count": 38,
   "id": "abd92d68",
   "metadata": {},
   "outputs": [
    {
     "name": "stdout",
     "output_type": "stream",
     "text": [
      "first student mark37\n",
      "second student mark34\n",
      "third student mark45\n",
      "38.666666666666664\n"
     ]
    }
   ],
   "source": [
    "# students mark\n",
    "a=int(input(\"first student mark\"))\n",
    "b=int(input(\"second student mark\"))\n",
    "c=int(input(\"third student mark\"))\n",
    "average=(a+b+c)/3\n",
    "print(average)"
   ]
  },
  {
   "cell_type": "code",
   "execution_count": null,
   "id": "14fc0374",
   "metadata": {},
   "outputs": [],
   "source": []
  }
 ],
 "metadata": {
  "kernelspec": {
   "display_name": "Python 3 (ipykernel)",
   "language": "python",
   "name": "python3"
  },
  "language_info": {
   "codemirror_mode": {
    "name": "ipython",
    "version": 3
   },
   "file_extension": ".py",
   "mimetype": "text/x-python",
   "name": "python",
   "nbconvert_exporter": "python",
   "pygments_lexer": "ipython3",
   "version": "3.9.7"
  }
 },
 "nbformat": 4,
 "nbformat_minor": 5
}
