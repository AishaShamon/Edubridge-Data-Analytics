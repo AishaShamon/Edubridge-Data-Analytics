{
 "cells": [
  {
   "cell_type": "code",
   "execution_count": 1,
   "id": "4362f682",
   "metadata": {},
   "outputs": [],
   "source": [
    "import numpy as np\n",
    "import pandas as pd\n",
    "import matplotlib.pyplot as plt\n",
    "import seaborn as sns\n",
    "import warnings\n",
    "warnings.filterwarnings('ignore')\n",
    "%matplotlib inline"
   ]
  },
  {
   "cell_type": "code",
   "execution_count": null,
   "id": "c8695f92",
   "metadata": {},
   "outputs": [],
   "source": [
    "d=pd.read_csv('googleplaystore.csv')"
   ]
  },
  {
   "cell_type": "code",
   "execution_count": null,
   "id": "4904367a",
   "metadata": {},
   "outputs": [],
   "source": [
    "d"
   ]
  },
  {
   "cell_type": "markdown",
   "id": "00412599",
   "metadata": {},
   "source": [
    "## Query to Extract Catagory of Apps"
   ]
  },
  {
   "cell_type": "code",
   "execution_count": null,
   "id": "4aea3075",
   "metadata": {},
   "outputs": [],
   "source": [
    "d['Category'].unique()\n"
   ]
  },
  {
   "cell_type": "code",
   "execution_count": null,
   "id": "a2debb96",
   "metadata": {},
   "outputs": [],
   "source": [
    "d['Category'].value_counts()"
   ]
  },
  {
   "cell_type": "code",
   "execution_count": null,
   "id": "58b3dd0f",
   "metadata": {},
   "outputs": [],
   "source": [
    "d['Genres'].value_counts()"
   ]
  },
  {
   "cell_type": "code",
   "execution_count": null,
   "id": "9669dfff",
   "metadata": {},
   "outputs": [],
   "source": [
    "d['Content Rating'].value_counts()"
   ]
  },
  {
   "cell_type": "markdown",
   "id": "491dd1d0",
   "metadata": {},
   "source": [
    "## Heighest Reviewed app"
   ]
  },
  {
   "cell_type": "code",
   "execution_count": null,
   "id": "a90a00bd",
   "metadata": {},
   "outputs": [],
   "source": [
    "d.max()"
   ]
  },
  {
   "cell_type": "code",
   "execution_count": null,
   "id": "a9a23944",
   "metadata": {},
   "outputs": [],
   "source": [
    "#average ratings by each category\n",
    "d1=d.copy()\n",
    "d1=d1.pivot_table('Rating',columns='Category',aggfunc='mean')\n",
    "d1"
   ]
  },
  {
   "cell_type": "code",
   "execution_count": null,
   "id": "83e1fd50",
   "metadata": {},
   "outputs": [],
   "source": [
    "n=d.groupby('Category').Installs.max().sort_values(ascending=False)\n",
    "n"
   ]
  },
  {
   "cell_type": "code",
   "execution_count": null,
   "id": "d444a08e",
   "metadata": {},
   "outputs": [],
   "source": [
    "d.sort_values(by=['Size'])"
   ]
  },
  {
   "cell_type": "code",
   "execution_count": null,
   "id": "0bbed086",
   "metadata": {},
   "outputs": [],
   "source": [
    "d5=d.copy()\n",
    "d5=d5.groupby(['Category','Rating'])['Reviews'].count().sort_values(ascending=False)\n",
    "d5\n"
   ]
  },
  {
   "cell_type": "code",
   "execution_count": null,
   "id": "6de3bca7",
   "metadata": {},
   "outputs": [],
   "source": [
    "n=d.groupby('Category').Rating.max().sort_values(ascending=False)\n",
    "n"
   ]
  },
  {
   "cell_type": "code",
   "execution_count": null,
   "id": "48108b68",
   "metadata": {},
   "outputs": [],
   "source": [
    "print(d['Content Rating'].value_counts())\n",
    "plt.figure(figsize=(10,4))\n",
    "sns.countplot(x=d['Content Rating'])\n",
    "plt.xticks(rotation=90)\n",
    "plt.show()"
   ]
  },
  {
   "cell_type": "code",
   "execution_count": null,
   "id": "9efc6388",
   "metadata": {},
   "outputs": [],
   "source": [
    "sns.relplot(x='App',y='Category',data=d)\n",
    "plt.show()"
   ]
  },
  {
   "cell_type": "code",
   "execution_count": null,
   "id": "3cdfaacd",
   "metadata": {},
   "outputs": [],
   "source": [
    "plt.title('Content Rating',fontsize=15)\n",
    "d['Content Rating'].value_counts().plot.pie(autopct='%2.2f%%',figsize=(9,30),shadow=True)\n",
    "plt.show()"
   ]
  },
  {
   "cell_type": "code",
   "execution_count": null,
   "id": "35b4072c",
   "metadata": {},
   "outputs": [],
   "source": [
    "plt.figure(figsize=(10,4))\n",
    "sns.countplot(x='Content Rating',data=d,palette='tab10')\n",
    "plt.show()"
   ]
  },
  {
   "cell_type": "code",
   "execution_count": null,
   "id": "71559706",
   "metadata": {},
   "outputs": [],
   "source": [
    "sns.barplot(x='Content Rating',y='Rating',data=d,palette='coolwarm_r')\n",
    "plt.xlabel('Content Rating',fontsize=50)\n",
    "plt.show()"
   ]
  },
  {
   "cell_type": "code",
   "execution_count": null,
   "id": "09cf0921",
   "metadata": {},
   "outputs": [],
   "source": []
  }
 ],
 "metadata": {
  "kernelspec": {
   "display_name": "Python 3 (ipykernel)",
   "language": "python",
   "name": "python3"
  },
  "language_info": {
   "codemirror_mode": {
    "name": "ipython",
    "version": 3
   },
   "file_extension": ".py",
   "mimetype": "text/x-python",
   "name": "python",
   "nbconvert_exporter": "python",
   "pygments_lexer": "ipython3",
   "version": "3.9.7"
  }
 },
 "nbformat": 4,
 "nbformat_minor": 5
}
