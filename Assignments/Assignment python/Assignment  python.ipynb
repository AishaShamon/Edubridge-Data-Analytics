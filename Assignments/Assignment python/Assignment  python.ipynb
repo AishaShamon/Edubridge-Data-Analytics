{
 "cells": [
  {
   "cell_type": "code",
   "execution_count": null,
   "id": "1e5c1971",
   "metadata": {},
   "outputs": [],
   "source": [
    "#FIND THE ROOT OF QUADRATIC EQN:\n",
    "a=int(input(\"enter the value of  x^2 coefficent\" ))\n",
    "b=int(input(\"enter the value of  x coefficent\" ))\n",
    "c=int(input(\"ent\n",
    "            x1))\n",
    "print(\"root2\"+str(x2))"
   ]
  },
  {
   "cell_type": "markdown",
   "id": "6833f42a",
   "metadata": {},
   "source": []
  },
  {
   "cell_type": "code",
   "execution_count": null,
   "id": "798e1c99",
   "metadata": {},
   "outputs": [],
   "source": [
    "# PRIME NO:"
   ]
  },
  {
   "cell_type": "code",
   "execution_count": null,
   "id": "6a788f0f",
   "metadata": {},
   "outputs": [],
   "source": [
    "a=int(input(\"enter the number\"))\n",
    "for i in range(2,a):\n",
    "    if a % i == 0:\n",
    "        print(\"Not prime number\")\n",
    "        break\n",
    "else:\n",
    "    print(\"prime number\")\n",
    "        \n",
    "\n",
    "    "
   ]
  },
  {
   "cell_type": "code",
   "execution_count": null,
   "id": "edba8127",
   "metadata": {},
   "outputs": [],
   "source": [
    "#FIBONOCCI SERIES\n",
    "a=int(input(\"enter the number\"))\n",
    "n1,n2=0,1\n",
    "for i in range(a):\n",
    "    print(n1)\n",
    "    temp=n1\n",
    "    n1=n2\n",
    "    n2=temp+n1"
   ]
  },
  {
   "cell_type": "code",
   "execution_count": null,
   "id": "80c5de47",
   "metadata": {},
   "outputs": [],
   "source": [
    "# strong no:\n",
    "n=int(iput(\"enter the number\"))\n",
    "for i in range(1,n+1):\n",
    "    n=i\n",
    "    result=0\n",
    "    n1=len(str(n))\n",
    "    while(!=0):\n",
    "        digit=i%10\n",
    "        result=result+my"
   ]
  },
  {
   "cell_type": "code",
   "execution_count": null,
   "id": "0d59828c",
   "metadata": {
    "scrolled": true
   },
   "outputs": [],
   "source": [
    "# AMSTRONG NO:\n",
    "for i in range(10001):\n",
    "    num=i\n",
    "    result=0\n",
    "    n=len(str(i))\n",
    "    while(i!=0):\n",
    "        digit =i%10\n",
    "        result=result+digit**n\n",
    "        i=i//10\n",
    "    if num==result:\n",
    "        print(num)"
   ]
  },
  {
   "cell_type": "code",
   "execution_count": null,
   "id": "2b28ed7d",
   "metadata": {},
   "outputs": [],
   "source": []
  },
  {
   "cell_type": "code",
   "execution_count": null,
   "id": "e308e00f",
   "metadata": {},
   "outputs": [],
   "source": [
    "# print pyramid \n",
    "num=int(input('enterthe number'))\n",
    "for i in range(0,num):\n",
    "    for j in range(0,num-i+1):\n",
    "        print(end=\" \")\n",
    "    for j in range (0,i+1):\n",
    "        print(\"*\",end=\" \")\n",
    "    print()"
   ]
  },
  {
   "cell_type": "code",
   "execution_count": null,
   "id": "2e869df1",
   "metadata": {},
   "outputs": [],
   "source": [
    "#find factors of n\n",
    "x=int(input(\"enter the number\"))\n",
    "for i in range(1,x+1):\n",
    "    if x % i==0:\n",
    "\n",
    "        print(i)"
   ]
  },
  {
   "cell_type": "code",
   "execution_count": null,
   "id": "d72d2279",
   "metadata": {},
   "outputs": [],
   "source": [
    "# for finding the perfect number or not\n",
    "num=int(input(\"enter the number\"))\n",
    "result=0\n",
    "for i in range(1,num):\n",
    "    if num % i==0:\n",
    "        result=result+i\n",
    "if result==num:\n",
    "    print(num,\"is a perfect number\")\n",
    "else:\n",
    "    print(num,\"is not a perfect number\")\n",
    "    \n"
   ]
  },
  {
   "cell_type": "code",
   "execution_count": null,
   "id": "8bb07736",
   "metadata": {},
   "outputs": [],
   "source": [
    "\n",
    "#find  the no: is palindrome\n",
    "num=int(input(\"enter the number\"))\n",
    "string=str(num)\n",
    "rev_string=string[::-1]\n",
    "print(\"reversed :\",rev_string)\n",
    "if string==rev_string:\n",
    "    print(\"number is palindrome\")\n",
    "else:\n",
    "    print(\"number is not palindrome\")"
   ]
  },
  {
   "cell_type": "code",
   "execution_count": null,
   "id": "601e2019",
   "metadata": {},
   "outputs": [],
   "source": [
    "# FIND PRIME NO:\n",
    "a=int(input(\"enter the number\"))\n",
    "for i in range(2,a):\n",
    "    if a % i == 0:\n",
    "        print(\"Not prime number\")\n",
    "        break\n",
    "else:\n",
    "    print(\"prime number\")\n",
    "        "
   ]
  },
  {
   "cell_type": "code",
   "execution_count": null,
   "id": "fa9fda5f",
   "metadata": {},
   "outputs": [],
   "source": []
  },
  {
   "cell_type": "code",
   "execution_count": null,
   "id": "39991584",
   "metadata": {},
   "outputs": [],
   "source": []
  }
 ],
 "metadata": {
  "kernelspec": {
   "display_name": "Python 3 (ipykernel)",
   "language": "python",
   "name": "python3"
  },
  "language_info": {
   "codemirror_mode": {
    "name": "ipython",
    "version": 3
   },
   "file_extension": ".py",
   "mimetype": "text/x-python",
   "name": "python",
   "nbconvert_exporter": "python",
   "pygments_lexer": "ipython3",
   "version": "3.9.7"
  }
 },
 "nbformat": 4,
 "nbformat_minor": 5
}
